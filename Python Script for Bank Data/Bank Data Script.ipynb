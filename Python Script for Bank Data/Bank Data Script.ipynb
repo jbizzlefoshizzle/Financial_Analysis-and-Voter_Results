{
 "cells": [
  {
   "cell_type": "markdown",
   "metadata": {},
   "source": [
    "### Updated code to work with Python 3 kernel"
   ]
  },
  {
   "cell_type": "code",
   "execution_count": 4,
   "metadata": {},
   "outputs": [],
   "source": [
    "# Declarations\n",
    "import os\n",
    "import csv\n",
    "#NEED THIS TO CALCULATE DIFFERENCES BETWEEN MONTHS\n",
    "import numpy as np"
   ]
  },
  {
   "cell_type": "code",
   "execution_count": 5,
   "metadata": {},
   "outputs": [],
   "source": [
    "# Defining max and min functions\n",
    "# -------------------------------------\n",
    "def max(array, n):\n",
    "    \n",
    "    max = array[0]\n",
    "    \n",
    "    for i  in range (1, n):\n",
    "        if array[i] > max:\n",
    "            max = array[i]\n",
    "    return max\n",
    "# -------------------------------------\n",
    "def min(array, n):\n",
    "    \n",
    "    min = array[0]\n",
    "    \n",
    "    for i  in range (1, n):\n",
    "        if array[i] < min:\n",
    "            min = array[i]\n",
    "    return min"
   ]
  },
  {
   "cell_type": "code",
   "execution_count": 9,
   "metadata": {},
   "outputs": [],
   "source": [
    "# Show me the money\n",
    "cash_csv = os.path.join('..','Resources','budget_data.csv')\n",
    "\n",
    "# Open and Read\n",
    "with open(cash_csv, newline=\"\") as csvfile:\n",
    "    csvreader = csv.reader(csvfile, delimiter = \",\")\n",
    "    # Skip headers when counting data\n",
    "    csv_header = next(csvfile)\n",
    "    # Empty lists \n",
    "    all_months = []\n",
    "    all_profits = []\n",
    "    # Put stuff in lists\n",
    "    for row in csvreader:\n",
    "        months = row[0]\n",
    "        profits = int(row[1])\n",
    "        all_months.append(months)\n",
    "        all_profits.append(profits)\n",
    "        \n",
    "#         Months of largest profit/loss\n",
    "        \n",
    "        n = len(all_profits)\n",
    "        biggest_profit = max(all_profits, n)\n",
    "        biggest_loss = min(all_profits, n)\n",
    "        \n",
    "        if row[1] == str(biggest_profit):\n",
    "            big_profit_month = row[0]\n",
    "        if row[1] == str(biggest_loss):\n",
    "            big_loss_month = row[0]"
   ]
  },
  {
   "cell_type": "code",
   "execution_count": 14,
   "metadata": {},
   "outputs": [],
   "source": [
    "# Create list of changes between months\n",
    "monthly_changes = np.diff(all_profits)\n",
    "# How to find average\n",
    "average = sum(monthly_changes)/len(monthly_changes)\n",
    "average_change = format(average,'.2f')"
   ]
  },
  {
   "cell_type": "code",
   "execution_count": 19,
   "metadata": {},
   "outputs": [],
   "source": [
    "m = len(monthly_changes)\n",
    "greatest_increase = max(monthly_changes, m)\n",
    "greatest_loss = min(monthly_changes, m)"
   ]
  },
  {
   "cell_type": "code",
   "execution_count": 21,
   "metadata": {},
   "outputs": [
    {
     "name": "stdout",
     "output_type": "stream",
     "text": [
      "Financial Analysis\n",
      "----------------------------\n",
      "Total Months: 86\n",
      "Total: $38382578\n",
      "Average Change: $-2315.12\n",
      "Greatest Increase in Profits: Feb-2012 ($1926159)\n",
      "Greatest Decrease in Profits: Sep-2013 ($-2196167)\n"
     ]
    }
   ],
   "source": [
    "print(\"Financial Analysis\")\n",
    "print(\"----------------------------\")\n",
    "print(\"Total Months: \" + str(len(all_months)))\n",
    "print(\"Total: $\" + str(sum(all_profits)))\n",
    "print(\"Average Change: $\" + str(average_change))\n",
    "print(\"Greatest Increase in Profits: \" + str(big_profit_month) + \" ($\" + str(greatest_increase) + \")\")\n",
    "print(\"Greatest Decrease in Profits: \" + str(big_loss_month) + \" ($\" + str(greatest_loss) + \")\")"
   ]
  },
  {
   "cell_type": "code",
   "execution_count": null,
   "metadata": {},
   "outputs": [],
   "source": []
  }
 ],
 "metadata": {
  "kernelspec": {
   "display_name": "Python 3",
   "language": "python",
   "name": "python3"
  },
  "language_info": {
   "codemirror_mode": {
    "name": "ipython",
    "version": 3
   },
   "file_extension": ".py",
   "mimetype": "text/x-python",
   "name": "python",
   "nbconvert_exporter": "python",
   "pygments_lexer": "ipython3",
   "version": "3.7.1"
  }
 },
 "nbformat": 4,
 "nbformat_minor": 2
}
